{
 "cells": [
  {
   "cell_type": "markdown",
   "metadata": {},
   "source": [
    "Write a function translate() that will translate a text into \"rövarspråket\" (Swedish for \"robber's language\"). That is, double every consonant and place an occurrence of \"o\" in between. For example, translate(\"this is fun\") should return the string \"tothohisos isos fofunon\"."
   ]
  },
  {
   "cell_type": "code",
   "execution_count": null,
   "metadata": {},
   "outputs": [],
   "source": [
    "# Your Solution here \n",
    "# Your Solution here \n",
    "text = \"this is fun\"\n",
    "def answer(str: text):\n",
    "    result = \"\"\n",
    "\n",
    "    for char in text:\n",
    "        if (char == 'a' or char == 'e'  or char =='i' or char =='o' or char == 'u' or char ==' '):\n",
    "            result += char\n",
    "            continue\n",
    "        else:\n",
    "            result = result + char + 'o' + char\n",
    "            \n",
    "    return result\n",
    "        \n",
    "        \n",
    "print(answer(text))"
   ]
  },
  {
   "cell_type": "markdown",
   "metadata": {},
   "source": [
    "Define a function sum() and a function multiply() that sums and multiplies (respectively) all the numbers in a list of numbers. For example, sum([1, 2, 3, 4]) should return 10, and multiply([1, 2, 3, 4]) should return 24"
   ]
  },
  {
   "cell_type": "code",
   "execution_count": null,
   "metadata": {},
   "outputs": [],
   "source": [
    "\n",
    "list = [1, 2, 3, 4]\n",
    "def add(list):\n",
    "    x = 0\n",
    "    ans = []\n",
    "    for i in list:\n",
    "        x = x + i\n",
    "    return x \n",
    "        \n",
    "print(add(list))\n",
    "\n",
    "def mulitply(list):\n",
    "    x = 1\n",
    "    for i in list:\n",
    "        x = x* i\n",
    "    return x\n",
    "\n",
    "print(mulitply(list))        \n",
    "    "
   ]
  },
  {
   "cell_type": "markdown",
   "metadata": {},
   "source": [
    "**Define a function reverse() that computes the reversal of a string. For example, reverse(\"I am testing\") should return the string \"gnitset ma I**"
   ]
  },
  {
   "cell_type": "code",
   "execution_count": null,
   "metadata": {},
   "outputs": [],
   "source": [
    "# with function\n",
    "def reverse_string(name):\n",
    "    ans = \"\"\n",
    "    for i in reversed(name):\n",
    "        ans = ans + i\n",
    "        \n",
    "    return ans\n",
    "    \n",
    "print(reverse_string(name))\n",
    "\n",
    "# another approach\n",
    "name = \"I am testing\"\n",
    "ans = name[::-1]\n",
    "print(ans)"
   ]
  },
  {
   "cell_type": "markdown",
   "metadata": {},
   "source": [
    "**Define a function is_palindrome() that recognizes palindromes (i.e. words that look the same written backwards). For example, is_palindrome(\"radar\") should return True.**"
   ]
  },
  {
   "cell_type": "code",
   "execution_count": null,
   "metadata": {},
   "outputs": [],
   "source": [
    "name = \"radar\"\n",
    "num = len(name)\n",
    "def functionsbdhs(name,num):\n",
    "    for i in range(num//2):\n",
    "        if(name[i]!=name[num-i-1]):\n",
    "            return False\n",
    "    return True\n",
    "\n",
    "print(functionsbdhs(name,num))"
   ]
  },
  {
   "cell_type": "markdown",
   "metadata": {},
   "source": [
    "**Write a function is_member() that takes a value (i.e. a number, string, etc) x and a list of values a, and returns True if x is a member of a, False otherwise.**"
   ]
  },
  {
   "cell_type": "code",
   "execution_count": null,
   "metadata": {},
   "outputs": [],
   "source": [
    "x = 8\n",
    "a = [2,4,5,6,0]\n",
    "def contains_number(x,a):\n",
    "    for i in a:\n",
    "        if(i == x):\n",
    "            return True\n",
    "    return False\n",
    "\n",
    "print(contains_number(x,a))"
   ]
  },
  {
   "cell_type": "markdown",
   "metadata": {},
   "source": [
    "**Define a function overlapping() that takes two lists and returns True if they have at least one member in common, False otherwise. You may use your is_member() function, or the in operator, but for the sake of the exercise, you should (also) write it using two nested for-loops.**"
   ]
  },
  {
   "cell_type": "code",
   "execution_count": null,
   "metadata": {},
   "outputs": [],
   "source": [
    "#  with two loops \n",
    "a = [99]\n",
    "b = [3,4,5,6,7,8]\n",
    "\n",
    "def functionsnfjbbsa(a,b):\n",
    "    for i in a:\n",
    "        for j in b:\n",
    "            if(i==j):\n",
    "                return True\n",
    "    return False\n",
    "   \n",
    "   \n",
    "print(functionsnfjbbsa(a,b))\n",
    "\n"
   ]
  },
  {
   "cell_type": "markdown",
   "metadata": {},
   "source": [
    "\n",
    "****\n",
    "*********\n",
    "*******"
   ]
  },
  {
   "cell_type": "code",
   "execution_count": null,
   "metadata": {},
   "outputs": [],
   "source": [
    "rows = [4,9,7]\n",
    "for i in rows:\n",
    "    print(\"*\"*i)"
   ]
  },
  {
   "cell_type": "markdown",
   "metadata": {},
   "source": [
    "**Write a function char_freq() that takes a string and builds a frequency listing of the characters contained in it. Represent the frequency listing as a Python dictionary. Try it with something like char_freq(\"abbabcbdbabdbdbabababcbcbab\").**\n",
    "\n"
   ]
  },
  {
   "cell_type": "code",
   "execution_count": null,
   "metadata": {},
   "outputs": [],
   "source": [
    "string = \"abbabcbdbabdbdbabababcbcbab\"\n",
    "def answer(string):\n",
    "    dictionary = {}\n",
    "    for char in string:\n",
    "        dictionary[char] = dictionary.get(char,0)+1\n",
    "        \n",
    "    return dictionary\n",
    "\n",
    "print(answer(string))"
   ]
  },
  {
   "cell_type": "markdown",
   "metadata": {},
   "source": [
    "**Write a program able to play the \"Guess the number\"-game, where the number to be guessed is randomly chosen between 1 and 20. (Source: http://inventwithpython.com) This is how it should work when run in a terminal:\n",
    "\n",
    "Hello! What is your name?\n",
    "Torbjörn\n",
    "Well, Torbjörn, I am thinking of a number between 1 and 20.\n",
    "Take a guess.\n",
    "10\n",
    "Your guess is too low.\n",
    "Take a guess.\n",
    "15\n",
    "Your guess is too low.\n",
    "Take a guess.\n",
    "18\n",
    "Good job, Torbjörn! You guessed my number in 3 guesses!***"
   ]
  },
  {
   "cell_type": "code",
   "execution_count": null,
   "metadata": {},
   "outputs": [],
   "source": [
    "# guess Number Game \n",
    "import random\n",
    "print(\"Hello! what is your name?\" )\n",
    "name = input()\n",
    "print(name)\n",
    "print(f\"Well, {name}, I am thinking of a number between 1 and 20 \")\n",
    "\n",
    "random_number   = random.randint(1,20)\n",
    "total_attempts = 0\n",
    "\n",
    "while True:\n",
    "    print(\"Take a guess \")\n",
    "    total_attempts = total_attempts+1\n",
    "    number = int(input())\n",
    "\n",
    "    if (number<random_number):\n",
    "        print(\"Your guess is too low\")\n",
    "    elif(number>random_number):\n",
    "        print(\"Your guess is too high\")\n",
    "    else:\n",
    "        print(f\"Good job, {name}! You guessed my number in {total_attempts} guesses!***\")\n",
    "        break\n"
   ]
  },
  {
   "cell_type": "markdown",
   "metadata": {},
   "source": [
    "***Write a program that maps a list of words into a list of integers representing the lengths of the correponding words.***\n"
   ]
  },
  {
   "cell_type": "code",
   "execution_count": null,
   "metadata": {},
   "outputs": [],
   "source": [
    "def get_lengths(words): \n",
    "    ans = []\n",
    "    for word in words:\n",
    "        ans.append(len(word))  \n",
    "    return ans\n",
    "\n",
    "words = [\"word\", \"given\", \"high\"]\n",
    "print(get_lengths(words)) \n"
   ]
  }
 ],
 "metadata": {
  "kernelspec": {
   "display_name": "Python 3",
   "language": "python",
   "name": "python3"
  },
  "language_info": {
   "codemirror_mode": {
    "name": "ipython",
    "version": 3
   },
   "file_extension": ".py",
   "mimetype": "text/x-python",
   "name": "python",
   "nbconvert_exporter": "python",
   "pygments_lexer": "ipython3",
   "version": "3.6.8"
  }
 },
 "nbformat": 4,
 "nbformat_minor": 2
}
